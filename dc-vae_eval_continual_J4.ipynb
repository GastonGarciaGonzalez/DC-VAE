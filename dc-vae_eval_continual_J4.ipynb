{
 "cells": [
  {
   "cell_type": "code",
   "execution_count": 1,
   "metadata": {},
   "outputs": [
    {
     "name": "stderr",
     "output_type": "stream",
     "text": [
      "2023-06-18 22:47:14.854995: I tensorflow/stream_executor/platform/default/dso_loader.cc:49] Successfully opened dynamic library libcudart.so.10.1\n"
     ]
    }
   ],
   "source": [
    "import json\n",
    "import pandas as pd\n",
    "from utils import preprocessing, set_index\n",
    "from matplotlib import pyplot as plt\n",
    "import numpy as np\n",
    "from tensorflow.keras import models\n",
    "import tensorflow as tf\n",
    "from tensorflow import keras\n",
    "from tensorflow.keras.layers import Layer\n",
    "from tensorflow.keras import backend as K\n",
    "from dc_vae_continual import DCVAE, Sampling\n",
    "from utils import samples_conditions_embedd\n",
    "import pickle\n",
    "from statsmodels.graphics.tsaplots import plot_acf"
   ]
  },
  {
   "attachments": {},
   "cell_type": "markdown",
   "metadata": {},
   "source": [
    "### Settings"
   ]
  },
  {
   "cell_type": "code",
   "execution_count": null,
   "metadata": {},
   "outputs": [],
   "source": [
    "settings_path = 'settings/model_settings_continual_J4.txt'\n",
    "settings = json.load(open(settings_path, 'r'))\n",
    "print(settings)"
   ]
  },
  {
   "attachments": {},
   "cell_type": "markdown",
   "metadata": {},
   "source": [
    "### Train data"
   ]
  },
  {
   "cell_type": "code",
   "execution_count": null,
   "metadata": {},
   "outputs": [],
   "source": [
    "\n",
    "#path = '../../Datasets/TELCO/'\n",
    "path = \"/home/gastong/Documentos/TELCO/v1/\" #Rosaluna\n",
    "filenames_train = [\"TELCO_data_2021_01.zip\", \n",
    "                #\"TELCO_data_2021_02.zip\", \"TELCO_data_2021_03.zip\",\n",
    "                #\"TELCO_data_2021_04.zip\", \"TELCO_data_2021_05.zip\", \"TELCO_data_2021_06.zip\",\n",
    "                #\"TELCO_data_2021_07.zip\", \"TELCO_data_2021_08.zip\", \"TELCO_data_2021_09.zip\",\n",
    "                #\"TELCO_data_2021_10.zip\", \"TELCO_data_2021_11.zip\", \"TELCO_data_2021_12.zip\"\n",
    "                ]\n",
    "files_train = [path+ i for i in filenames_train]\n",
    "\n",
    "# Load data and predictions\n",
    "# Read CSV files from List\n",
    "data_train = pd.concat(map(pd.read_csv, files_train))\n",
    "data_train = set_index(data_train)\n",
    "data_train = preprocessing(data_train, flag_scaler=False, outliers=True)\n",
    "data_train.head()"
   ]
  },
  {
   "cell_type": "code",
   "execution_count": null,
   "metadata": {},
   "outputs": [],
   "source": [
    "#define number of rows and columns for subplots\n",
    "nrow=12\n",
    "ncol=1\n",
    "\n",
    "columns_list = data_train.columns\n",
    "\n",
    "time_start = '2021-01-01'\n",
    "time_end = '2021-12-31'\n",
    "fig, axes = plt.subplots(nrow, ncol, figsize=(20,30), constrained_layout=True, sharex=True)\n",
    "\n",
    "# plot counter\n",
    "count=0\n",
    "\n",
    "for r in range(nrow):\n",
    "    for c in range(ncol):\n",
    "        data_train[columns_list[count]][time_start:time_end].plot(ax=axes[r])\n",
    "        axes[r].set_title(columns_list[count])\n",
    "        count+=1"
   ]
  },
  {
   "attachments": {},
   "cell_type": "markdown",
   "metadata": {},
   "source": [
    "### Test data"
   ]
  },
  {
   "cell_type": "code",
   "execution_count": null,
   "metadata": {},
   "outputs": [],
   "source": [
    "#path = '../../Datasets/TELCO/'\n",
    "path = \"/home/gastong/Documentos/TELCO/v1/\" #Rosaluna\n",
    "filenames_test = [\"TELCO_data_2022_01.zip\", \"TELCO_data_2022_02.zip\", \"TELCO_data_2022_03.zip\", \"TELCO_data_2022_04.zip\"]\n",
    "files_test = [path+ i for i in filenames_test]"
   ]
  },
  {
   "cell_type": "code",
   "execution_count": null,
   "metadata": {},
   "outputs": [],
   "source": [
    "# Load data and predictions\n",
    "# Read CSV files from List\n",
    "data_test = pd.concat(map(pd.read_csv, files_test))\n",
    "data_test = set_index(data_test)\n",
    "data_test = preprocessing(data_test, flag_scaler=False, outliers=True)\n",
    "data_test.head()"
   ]
  },
  {
   "cell_type": "code",
   "execution_count": null,
   "metadata": {},
   "outputs": [],
   "source": [
    "#define number of rows and columns for subplots\n",
    "nrow=12\n",
    "ncol=1\n",
    "\n",
    "columns_list = data_test.columns\n",
    "\n",
    "time_start = '2022-01-01'\n",
    "time_end = '2022-04-30'\n",
    "fig, axes = plt.subplots(nrow, ncol, figsize=(20,30), constrained_layout=True, sharex=True)\n",
    "\n",
    "# plot counter\n",
    "count=0\n",
    "\n",
    "for r in range(nrow):\n",
    "    for c in range(ncol):\n",
    "        data_test[columns_list[count]][time_start:time_end].plot(ax=axes[r])\n",
    "        axes[r].set_title(columns_list[count])\n",
    "        count+=1"
   ]
  },
  {
   "attachments": {},
   "cell_type": "markdown",
   "metadata": {},
   "source": [
    "## Predicciones"
   ]
  },
  {
   "cell_type": "code",
   "execution_count": null,
   "metadata": {},
   "outputs": [],
   "source": [
    "# Model initialization\n",
    "model = DCVAE(\n",
    "    settings['T'],\n",
    "    settings['M'],\n",
    "    settings['cnn_units'],\n",
    "    settings['dil_rate'],\n",
    "    settings['kernel'],\n",
    "    settings['strs'],\n",
    "    settings['batch_size'],\n",
    "    settings['J'],\n",
    "    settings['lr'],\n",
    "    settings['lr_decay'],\n",
    "    settings['decay_rate'],\n",
    "    settings['decay_step'],\n",
    "    settings['time_embedding'],\n",
    "    settings['summary'],\n",
    "    ) "
   ]
  },
  {
   "cell_type": "code",
   "execution_count": null,
   "metadata": {},
   "outputs": [],
   "source": [
    "anom_train, error_train, reconst_train, sig_train, latent_space = model.predict(data_train,\n",
    "                                        True,\n",
    "                                        large_result=True,\n",
    "                                        load_alpha=False,\n",
    "                                        alpha_set_up = list(np.ones(12)),\n",
    "                                        alpha_set_down = list(np.ones(12)),\n",
    "                                        name=settings[\"model_name\"]\n",
    "                                                    )\n",
    "th_up_train = reconst_train + sig_train\n",
    "th_down_train = reconst_train - sig_train"
   ]
  },
  {
   "attachments": {},
   "cell_type": "markdown",
   "metadata": {},
   "source": [
    "**Series reales con las predicciones de media y sigma**"
   ]
  },
  {
   "cell_type": "code",
   "execution_count": null,
   "metadata": {},
   "outputs": [],
   "source": [
    "#define number of rows and columns for subplots\n",
    "nrow=12\n",
    "ncol=1\n",
    "data_aux = data_train[reconst_train.index[0]:].copy()\n",
    "\n",
    "columns_list = data_aux.columns\n",
    "\n",
    "time_start = '2021-01-01'\n",
    "time_end = '2021-01-30'\n",
    "fig, axes = plt.subplots(nrow, ncol, figsize=(20,30), constrained_layout=True, sharex=True)\n",
    "\n",
    "# plot counter\n",
    "count=0\n",
    "\n",
    "for r in range(nrow):\n",
    "    for c in range(ncol):\n",
    "        data_aux[columns_list[count]][time_start:time_end].plot(ax=axes[r])\n",
    "        reconst_train[columns_list[count]][time_start:time_end].plot(ax=axes[r])\n",
    "        axes[r].fill_between(data_aux[columns_list[count]][time_start:time_end].index,\n",
    "                         th_up_train[columns_list[count]][time_start:time_end],\n",
    "                         th_down_train[columns_list[count]][time_start:time_end],\n",
    "                         facecolor='orange', alpha=0.6, interpolate=True)\n",
    "        axes[r].set_title(columns_list[count])\n",
    "        count+=1"
   ]
  },
  {
   "cell_type": "code",
   "execution_count": null,
   "metadata": {},
   "outputs": [],
   "source": [
    "anom_test, error_test, reconst_test, sig_test, latent_space = model.predict(data_test,\n",
    "                                        True,\n",
    "                                        large_result=True,\n",
    "                                        load_alpha=False,\n",
    "                                        alpha_set_up = list(np.ones(12)),\n",
    "                                        alpha_set_down = list(np.ones(12)),\n",
    "                                        name=settings[\"model_name\"]\n",
    "                                                    )\n",
    "th_up_test = reconst_test + sig_test\n",
    "th_down_test = reconst_test - sig_test"
   ]
  },
  {
   "cell_type": "code",
   "execution_count": null,
   "metadata": {},
   "outputs": [],
   "source": [
    "#define number of rows and columns for subplots\n",
    "nrow=12\n",
    "ncol=1\n",
    "data_aux = data_test[reconst_test.index[0]:].copy()\n",
    "\n",
    "columns_list = data_aux.columns\n",
    "\n",
    "time_start = '2022-01-01'\n",
    "time_end = '2022-04-30'\n",
    "fig, axes = plt.subplots(nrow, ncol, figsize=(20,30), constrained_layout=True, sharex=True)\n",
    "\n",
    "# plot counter\n",
    "count=0\n",
    "\n",
    "for r in range(nrow):\n",
    "    for c in range(ncol):\n",
    "        data_aux[columns_list[count]][time_start:time_end].plot(ax=axes[r])\n",
    "        reconst_test[columns_list[count]][time_start:time_end].plot(ax=axes[r])\n",
    "        axes[r].fill_between(data_aux[columns_list[count]][time_start:time_end].index,\n",
    "                         th_up_test[columns_list[count]][time_start:time_end],\n",
    "                         th_down_test[columns_list[count]][time_start:time_end],\n",
    "                         facecolor='orange', alpha=0.6, interpolate=True)\n",
    "        axes[r].set_title(columns_list[count])\n",
    "        count+=1"
   ]
  },
  {
   "attachments": {},
   "cell_type": "markdown",
   "metadata": {},
   "source": [
    "## Espacio de latencia"
   ]
  },
  {
   "cell_type": "code",
   "execution_count": null,
   "metadata": {},
   "outputs": [],
   "source": [
    "if settings[\"time_embedding\"]:\n",
    "    X, time_info = samples_conditions_embedd(data_train, settings[\"T\"])  \n",
    "    input_samples_train = (X, time_info)\n",
    "else:\n",
    "    X = data_train.values\n",
    "    N = data_train.shape[0]\n",
    "    X = np.array([X[i: i + settings[\"T\"]] for i in range(0, N - settings[\"T\"]+1)])\n",
    "    input_samples_train = X\n",
    "\n",
    "z_mu_train, z_log_var_train, z_train = model.encoder.predict(input_samples_train)\n",
    "z_sig_train = np.exp(0.5*z_log_var_train)"
   ]
  },
  {
   "attachments": {},
   "cell_type": "markdown",
   "metadata": {},
   "source": [
    "### Ejemplo de como se agrupan los puntos por hora"
   ]
  },
  {
   "attachments": {},
   "cell_type": "markdown",
   "metadata": {},
   "source": [
    "### $\\mu_z$"
   ]
  },
  {
   "cell_type": "code",
   "execution_count": null,
   "metadata": {},
   "outputs": [],
   "source": [
    "fig, axes = plt.subplots(4, 4, figsize=(15,15), constrained_layout=True)\n",
    "\n",
    "for i in range(4):\n",
    "    for j in range(4):\n",
    "        axes[i,j].scatter(z_mu_train[:, -1, i], \n",
    "                          z_mu_train[:, -1, j], \n",
    "                          c=data_train.index.hour[(settings['T']-1):])"
   ]
  },
  {
   "cell_type": "code",
   "execution_count": null,
   "metadata": {},
   "outputs": [],
   "source": [
    "fig, axes = plt.subplots(4, 4, figsize=(15,15), constrained_layout=True)\n",
    "\n",
    "day_number = 288\n",
    "count = 4\n",
    "for i in range(4):\n",
    "    for j in range(4):\n",
    "        axes[i,j].scatter(z_mu_train[count*day_number:(count+1)*day_number, -1, i], \n",
    "                          z_mu_train[count*day_number:(count+1)*day_number, -1, j], \n",
    "                          c=data_train.index.hour[(settings['T']-1)+count*day_number:(settings['T']-1)+(count+1)*day_number])"
   ]
  },
  {
   "attachments": {},
   "cell_type": "markdown",
   "metadata": {},
   "source": [
    "### $\\sigma_z$"
   ]
  },
  {
   "cell_type": "code",
   "execution_count": null,
   "metadata": {},
   "outputs": [],
   "source": [
    "fig, axes = plt.subplots(4, 4, figsize=(15,15), constrained_layout=True)\n",
    "\n",
    "day_number = 288\n",
    "count = 4\n",
    "for i in range(4):\n",
    "    for j in range(4):\n",
    "        axes[i,j].scatter(z_sig_train[:, -1, i], \n",
    "                          z_sig_train[:, -1, j], \n",
    "                          c=data_train.index.hour[(settings['T']-1):])"
   ]
  },
  {
   "cell_type": "code",
   "execution_count": null,
   "metadata": {},
   "outputs": [],
   "source": [
    "fig, axes = plt.subplots(4, 4, figsize=(15,15), constrained_layout=True)\n",
    "\n",
    "day_number = 288\n",
    "count = 4\n",
    "for i in range(4):\n",
    "    for j in range(4):\n",
    "        axes[i,j].scatter(z_sig_train[count*day_number:(count+1)*day_number, -1, i], \n",
    "                          z_sig_train[count*day_number:(count+1)*day_number, -1, j], \n",
    "                          c=data_train.index.hour[(settings['T']-1)+count*day_number:(settings['T']-1)+(count+1)*day_number])"
   ]
  },
  {
   "attachments": {},
   "cell_type": "markdown",
   "metadata": {},
   "source": [
    "### $z$"
   ]
  },
  {
   "cell_type": "code",
   "execution_count": null,
   "metadata": {},
   "outputs": [],
   "source": [
    "fig, axes = plt.subplots(4, 4, figsize=(15,15), constrained_layout=True)\n",
    "\n",
    "for i in range(4):\n",
    "    for j in range(4):\n",
    "        axes[i,j].scatter(z_train[:, -1, i], \n",
    "                          z_train[:, -1, j], \n",
    "                          c=data_train.index.hour[(settings['T']-1):])"
   ]
  },
  {
   "cell_type": "code",
   "execution_count": null,
   "metadata": {},
   "outputs": [],
   "source": [
    "fig, axes = plt.subplots(4, 4, figsize=(15,15), constrained_layout=True)\n",
    "\n",
    "day_number = 288\n",
    "count = 4\n",
    "for i in range(4):\n",
    "    for j in range(4):\n",
    "        axes[i,j].scatter(z_train[count*day_number:(count+1)*day_number, -1, i], \n",
    "                          z_train[count*day_number:(count+1)*day_number, -1, j], \n",
    "                          c=data_train.index.hour[(settings['T']-1)+count*day_number:(settings['T']-1)+(count+1)*day_number])"
   ]
  },
  {
   "cell_type": "code",
   "execution_count": null,
   "metadata": {},
   "outputs": [],
   "source": []
  }
 ],
 "metadata": {
  "kernelspec": {
   "display_name": "vaecnn",
   "language": "python",
   "name": "python3"
  },
  "language_info": {
   "codemirror_mode": {
    "name": "ipython",
    "version": 3
   },
   "file_extension": ".py",
   "mimetype": "text/x-python",
   "name": "python",
   "nbconvert_exporter": "python",
   "pygments_lexer": "ipython3",
   "version": "3.9.15"
  },
  "orig_nbformat": 4,
  "vscode": {
   "interpreter": {
    "hash": "bbfb6f814e359b0ece3ee0ecdd2047c2a8d2d7c42513350f9251085e90cca6f3"
   }
  }
 },
 "nbformat": 4,
 "nbformat_minor": 2
}
