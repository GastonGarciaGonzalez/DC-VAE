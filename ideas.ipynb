{
 "cells": [
  {
   "cell_type": "code",
   "execution_count": null,
   "metadata": {},
   "outputs": [],
   "source": [
    "th_up = reconst + sig\n",
    "th_down = reconst - sig\n",
    "th_up_2 = reconst + 2*sig\n",
    "th_down_2 = reconst - 2*sig\n",
    "th_up_3 = reconst + 3*sig\n",
    "th_down_3 = reconst - 3*sig"
   ]
  },
  {
   "attachments": {},
   "cell_type": "markdown",
   "metadata": {},
   "source": [
    "### ploteo con más de 1 sigma"
   ]
  },
  {
   "cell_type": "code",
   "execution_count": null,
   "metadata": {},
   "outputs": [],
   "source": [
    "#define number of rows and columns for subplots\n",
    "nrow=12\n",
    "ncol=1\n",
    "data_aux = data[reconst.index[0]:].copy()\n",
    "\n",
    "columns_list = data_aux.columns\n",
    "\n",
    "time_start = '2022-04-01'\n",
    "time_end = '2022-04-05'\n",
    "fig, axes = plt.subplots(nrow, ncol, figsize=(20,30), constrained_layout=True, sharex=True)\n",
    "\n",
    "# plot counter\n",
    "count=0\n",
    "\n",
    "for r in range(nrow):\n",
    "    for c in range(ncol):\n",
    "        data_aux[columns_list[count]][time_start:time_end].plot(ax=axes[r])\n",
    "        reconst[columns_list[count]][time_start:time_end].plot(ax=axes[r])\n",
    "        axes[r].fill_between(data_aux[columns_list[count]][time_start:time_end].index,\n",
    "                         th_up[columns_list[count]][time_start:time_end],\n",
    "                         th_down[columns_list[count]][time_start:time_end],\n",
    "                         facecolor='orange', alpha=0.6, interpolate=True)\n",
    "        axes[r].fill_between(data_aux[columns_list[count]][time_start:time_end].index,\n",
    "                         th_up_2[columns_list[count]][time_start:time_end],\n",
    "                         th_down_2[columns_list[count]][time_start:time_end],\n",
    "                         facecolor='orange', alpha=0.3, interpolate=True)\n",
    "        axes[r].fill_between(data_aux[columns_list[count]][time_start:time_end].index,\n",
    "                         th_up_3[columns_list[count]][time_start:time_end],\n",
    "                         th_down_3[columns_list[count]][time_start:time_end],\n",
    "                         facecolor='orange', alpha=0.1, interpolate=True)\n",
    "        axes[r].set_title(columns_list[count])\n",
    "        count+=1"
   ]
  },
  {
   "attachments": {},
   "cell_type": "markdown",
   "metadata": {},
   "source": [
    "como hacer para genera muestra con ruido"
   ]
  },
  {
   "cell_type": "code",
   "execution_count": null,
   "metadata": {},
   "outputs": [],
   "source": [
    "noise2gen = np.random.normal(0, 1, (X.shape[0], settings['T'], settings['M']))\n",
    "\n",
    "X_gen = mu_gen + noise2gen*(th_up_gen-mu_gen)"
   ]
  }
 ],
 "metadata": {
  "language_info": {
   "name": "python"
  },
  "orig_nbformat": 4
 },
 "nbformat": 4,
 "nbformat_minor": 2
}
